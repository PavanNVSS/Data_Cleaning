{
 "cells": [
  {
   "cell_type": "markdown",
   "id": "732dd20a",
   "metadata": {
    "papermill": {
     "duration": 0.006427,
     "end_time": "2023-04-30T02:40:12.751623",
     "exception": false,
     "start_time": "2023-04-30T02:40:12.745196",
     "status": "completed"
    },
    "tags": []
   },
   "source": [
    "**This notebook is an exercise in the [Data Cleaning](https://www.kaggle.com/learn/data-cleaning) course.  You can reference the tutorial at [this link](https://www.kaggle.com/alexisbcook/character-encodings).**\n",
    "\n",
    "---\n"
   ]
  },
  {
   "cell_type": "markdown",
   "id": "8fea7167",
   "metadata": {
    "papermill": {
     "duration": 0.004724,
     "end_time": "2023-04-30T02:40:12.761604",
     "exception": false,
     "start_time": "2023-04-30T02:40:12.756880",
     "status": "completed"
    },
    "tags": []
   },
   "source": [
    "In this exercise, you'll apply what you learned in the **Character encodings** tutorial.\n",
    "\n",
    "# Setup\n",
    "\n",
    "The questions below will give you feedback on your work. Run the following cell to set up the feedback system."
   ]
  },
  {
   "cell_type": "code",
   "execution_count": 1,
   "id": "d617cfb8",
   "metadata": {
    "execution": {
     "iopub.execute_input": "2023-04-30T02:40:12.775269Z",
     "iopub.status.busy": "2023-04-30T02:40:12.774236Z",
     "iopub.status.idle": "2023-04-30T02:40:12.873717Z",
     "shell.execute_reply": "2023-04-30T02:40:12.872329Z"
    },
    "papermill": {
     "duration": 0.109668,
     "end_time": "2023-04-30T02:40:12.876740",
     "exception": false,
     "start_time": "2023-04-30T02:40:12.767072",
     "status": "completed"
    },
    "tags": []
   },
   "outputs": [
    {
     "name": "stdout",
     "output_type": "stream",
     "text": [
      "Setup Complete\n"
     ]
    }
   ],
   "source": [
    "from learntools.core import binder\n",
    "binder.bind(globals())\n",
    "from learntools.data_cleaning.ex4 import *\n",
    "print(\"Setup Complete\")"
   ]
  },
  {
   "cell_type": "markdown",
   "id": "3e56b664",
   "metadata": {
    "papermill": {
     "duration": 0.00477,
     "end_time": "2023-04-30T02:40:12.886699",
     "exception": false,
     "start_time": "2023-04-30T02:40:12.881929",
     "status": "completed"
    },
    "tags": []
   },
   "source": [
    "# Get our environment set up\n",
    "\n",
    "The first thing we'll need to do is load in the libraries we'll be using."
   ]
  },
  {
   "cell_type": "code",
   "execution_count": 2,
   "id": "df41f995",
   "metadata": {
    "execution": {
     "iopub.execute_input": "2023-04-30T02:40:12.898825Z",
     "iopub.status.busy": "2023-04-30T02:40:12.898385Z",
     "iopub.status.idle": "2023-04-30T02:40:12.904136Z",
     "shell.execute_reply": "2023-04-30T02:40:12.902713Z"
    },
    "papermill": {
     "duration": 0.015438,
     "end_time": "2023-04-30T02:40:12.907141",
     "exception": false,
     "start_time": "2023-04-30T02:40:12.891703",
     "status": "completed"
    },
    "tags": []
   },
   "outputs": [],
   "source": [
    "# modules we'll use\n",
    "import pandas as pd\n",
    "import numpy as np\n",
    "\n",
    "# helpful character encoding module\n",
    "import charset_normalizer\n",
    "\n",
    "# set seed for reproducibility\n",
    "np.random.seed(0)"
   ]
  },
  {
   "cell_type": "markdown",
   "id": "af7fe219",
   "metadata": {
    "papermill": {
     "duration": 0.005176,
     "end_time": "2023-04-30T02:40:12.917805",
     "exception": false,
     "start_time": "2023-04-30T02:40:12.912629",
     "status": "completed"
    },
    "tags": []
   },
   "source": [
    "# 1) What are encodings?\n",
    "\n",
    "You're working with a dataset composed of bytes.  Run the code cell below to print a sample entry."
   ]
  },
  {
   "cell_type": "code",
   "execution_count": 3,
   "id": "f5741eb2",
   "metadata": {
    "execution": {
     "iopub.execute_input": "2023-04-30T02:40:12.930683Z",
     "iopub.status.busy": "2023-04-30T02:40:12.930104Z",
     "iopub.status.idle": "2023-04-30T02:40:12.937134Z",
     "shell.execute_reply": "2023-04-30T02:40:12.935583Z"
    },
    "papermill": {
     "duration": 0.016335,
     "end_time": "2023-04-30T02:40:12.939723",
     "exception": false,
     "start_time": "2023-04-30T02:40:12.923388",
     "status": "completed"
    },
    "tags": []
   },
   "outputs": [
    {
     "name": "stdout",
     "output_type": "stream",
     "text": [
      "b'\\xa7A\\xa6n'\n",
      "data type: <class 'bytes'>\n"
     ]
    }
   ],
   "source": [
    "sample_entry = b'\\xa7A\\xa6n'\n",
    "print(sample_entry)\n",
    "print('data type:', type(sample_entry))"
   ]
  },
  {
   "cell_type": "markdown",
   "id": "96a42320",
   "metadata": {
    "papermill": {
     "duration": 0.004931,
     "end_time": "2023-04-30T02:40:12.949848",
     "exception": false,
     "start_time": "2023-04-30T02:40:12.944917",
     "status": "completed"
    },
    "tags": []
   },
   "source": [
    "You notice that it doesn't use the standard UTF-8 encoding. \n",
    "\n",
    "Use the next code cell to create a variable `new_entry` that changes the encoding from `\"big5-tw\"` to `\"utf-8\"`.  `new_entry` should have the bytes datatype."
   ]
  },
  {
   "cell_type": "code",
   "execution_count": 4,
   "id": "5177e340",
   "metadata": {
    "execution": {
     "iopub.execute_input": "2023-04-30T02:40:12.962031Z",
     "iopub.status.busy": "2023-04-30T02:40:12.961588Z",
     "iopub.status.idle": "2023-04-30T02:40:12.973757Z",
     "shell.execute_reply": "2023-04-30T02:40:12.972281Z"
    },
    "papermill": {
     "duration": 0.0217,
     "end_time": "2023-04-30T02:40:12.976563",
     "exception": false,
     "start_time": "2023-04-30T02:40:12.954863",
     "status": "completed"
    },
    "tags": []
   },
   "outputs": [
    {
     "data": {
      "application/javascript": [
       "parent.postMessage({\"jupyterEvent\": \"custom.exercise_interaction\", \"data\": {\"outcomeType\": 4, \"interactionType\": 1, \"questionType\": 1, \"questionId\": \"1_EncodingsIntro\", \"learnToolsVersion\": \"0.3.4\", \"valueTowardsCompletion\": 0.0, \"failureMessage\": \"\", \"exceptionClass\": \"\", \"trace\": \"\"}}, \"*\")"
      ],
      "text/plain": [
       "<IPython.core.display.Javascript object>"
      ]
     },
     "metadata": {},
     "output_type": "display_data"
    },
    {
     "data": {
      "text/markdown": [
       "<span style=\"color:#ccaa33\">Check:</span> When you've updated the starter code, `check()` will tell you whether your code is correct. You need to update the code that creates variable `new_entry`"
      ],
      "text/plain": [
       "Check: When you've updated the starter code, `check()` will tell you whether your code is correct. You need to update the code that creates variable `new_entry`"
      ]
     },
     "metadata": {},
     "output_type": "display_data"
    }
   ],
   "source": [
    "new_entry = ____\n",
    "\n",
    "# Check your answer\n",
    "q1.check()"
   ]
  },
  {
   "cell_type": "code",
   "execution_count": 5,
   "id": "4bedb520",
   "metadata": {
    "execution": {
     "iopub.execute_input": "2023-04-30T02:40:12.989679Z",
     "iopub.status.busy": "2023-04-30T02:40:12.989259Z",
     "iopub.status.idle": "2023-04-30T02:40:12.994049Z",
     "shell.execute_reply": "2023-04-30T02:40:12.992676Z"
    },
    "papermill": {
     "duration": 0.014427,
     "end_time": "2023-04-30T02:40:12.996485",
     "exception": false,
     "start_time": "2023-04-30T02:40:12.982058",
     "status": "completed"
    },
    "tags": []
   },
   "outputs": [],
   "source": [
    "# Lines below will give you a hint or solution code\n",
    "#q1.hint()\n",
    "#q1.solution()"
   ]
  },
  {
   "cell_type": "markdown",
   "id": "92e897ed",
   "metadata": {
    "papermill": {
     "duration": 0.00499,
     "end_time": "2023-04-30T02:40:13.006898",
     "exception": false,
     "start_time": "2023-04-30T02:40:13.001908",
     "status": "completed"
    },
    "tags": []
   },
   "source": [
    "# 2) Reading in files with encoding problems\n",
    "\n",
    "Use the code cell below to read in this file at path `\"../input/fatal-police-shootings-in-the-us/PoliceKillingsUS.csv\"`.  \n",
    "\n",
    "Figure out what the correct encoding should be and read in the file to a DataFrame `police_killings`."
   ]
  },
  {
   "cell_type": "code",
   "execution_count": 6,
   "id": "5c91b022",
   "metadata": {
    "execution": {
     "iopub.execute_input": "2023-04-30T02:40:13.020854Z",
     "iopub.status.busy": "2023-04-30T02:40:13.020428Z",
     "iopub.status.idle": "2023-04-30T02:40:13.030252Z",
     "shell.execute_reply": "2023-04-30T02:40:13.029098Z"
    },
    "papermill": {
     "duration": 0.019817,
     "end_time": "2023-04-30T02:40:13.033081",
     "exception": false,
     "start_time": "2023-04-30T02:40:13.013264",
     "status": "completed"
    },
    "tags": []
   },
   "outputs": [
    {
     "data": {
      "application/javascript": [
       "parent.postMessage({\"jupyterEvent\": \"custom.exercise_interaction\", \"data\": {\"outcomeType\": 4, \"interactionType\": 1, \"questionType\": 1, \"questionId\": \"2_ReadIn\", \"learnToolsVersion\": \"0.3.4\", \"valueTowardsCompletion\": 0.0, \"failureMessage\": \"\", \"exceptionClass\": \"\", \"trace\": \"\"}}, \"*\")"
      ],
      "text/plain": [
       "<IPython.core.display.Javascript object>"
      ]
     },
     "metadata": {},
     "output_type": "display_data"
    },
    {
     "data": {
      "text/markdown": [
       "<span style=\"color:#ccaa33\">Check:</span> When you've updated the starter code, `check()` will tell you whether your code is correct. You need to update the code that creates variable `police_killings`"
      ],
      "text/plain": [
       "Check: When you've updated the starter code, `check()` will tell you whether your code is correct. You need to update the code that creates variable `police_killings`"
      ]
     },
     "metadata": {},
     "output_type": "display_data"
    }
   ],
   "source": [
    "# TODO: Load in the DataFrame correctly.\n",
    "police_killings = ____\n",
    "\n",
    "# Check your answer\n",
    "q2.check()"
   ]
  },
  {
   "cell_type": "markdown",
   "id": "84dd49f1",
   "metadata": {
    "papermill": {
     "duration": 0.005345,
     "end_time": "2023-04-30T02:40:13.044156",
     "exception": false,
     "start_time": "2023-04-30T02:40:13.038811",
     "status": "completed"
    },
    "tags": []
   },
   "source": [
    "Feel free to use any additional code cells for supplemental work.  To get credit for finishing this question, you'll need to run `q2.check()` and get a result of **Correct**."
   ]
  },
  {
   "cell_type": "code",
   "execution_count": 7,
   "id": "70553725",
   "metadata": {
    "execution": {
     "iopub.execute_input": "2023-04-30T02:40:13.057382Z",
     "iopub.status.busy": "2023-04-30T02:40:13.056641Z",
     "iopub.status.idle": "2023-04-30T02:40:13.061892Z",
     "shell.execute_reply": "2023-04-30T02:40:13.060561Z"
    },
    "papermill": {
     "duration": 0.014734,
     "end_time": "2023-04-30T02:40:13.064386",
     "exception": false,
     "start_time": "2023-04-30T02:40:13.049652",
     "status": "completed"
    },
    "tags": []
   },
   "outputs": [],
   "source": [
    "# (Optional) Use this code cell for any additional work."
   ]
  },
  {
   "cell_type": "code",
   "execution_count": 8,
   "id": "24173914",
   "metadata": {
    "execution": {
     "iopub.execute_input": "2023-04-30T02:40:13.079215Z",
     "iopub.status.busy": "2023-04-30T02:40:13.078284Z",
     "iopub.status.idle": "2023-04-30T02:40:13.083710Z",
     "shell.execute_reply": "2023-04-30T02:40:13.082352Z"
    },
    "papermill": {
     "duration": 0.014713,
     "end_time": "2023-04-30T02:40:13.085977",
     "exception": false,
     "start_time": "2023-04-30T02:40:13.071264",
     "status": "completed"
    },
    "tags": []
   },
   "outputs": [],
   "source": [
    "# Lines below will give you a hint or solution code\n",
    "#q2.hint()\n",
    "#q2.solution()"
   ]
  },
  {
   "cell_type": "markdown",
   "id": "336549ee",
   "metadata": {
    "papermill": {
     "duration": 0.005258,
     "end_time": "2023-04-30T02:40:13.096805",
     "exception": false,
     "start_time": "2023-04-30T02:40:13.091547",
     "status": "completed"
    },
    "tags": []
   },
   "source": [
    "# 3) Saving your files with UTF-8 encoding\n",
    "\n",
    "Save a version of the police killings dataset to CSV with UTF-8 encoding.  Your answer will be marked correct after saving this file.  \n",
    "\n",
    "Note: When using the `to_csv()` method, supply only the name of the file (e.g., `\"my_file.csv\"`).  This saves the file at the filepath `\"/kaggle/working/my_file.csv\"`."
   ]
  },
  {
   "cell_type": "code",
   "execution_count": 9,
   "id": "0586b499",
   "metadata": {
    "execution": {
     "iopub.execute_input": "2023-04-30T02:40:13.110156Z",
     "iopub.status.busy": "2023-04-30T02:40:13.109257Z",
     "iopub.status.idle": "2023-04-30T02:40:13.119339Z",
     "shell.execute_reply": "2023-04-30T02:40:13.118143Z"
    },
    "papermill": {
     "duration": 0.019376,
     "end_time": "2023-04-30T02:40:13.121751",
     "exception": false,
     "start_time": "2023-04-30T02:40:13.102375",
     "status": "completed"
    },
    "tags": []
   },
   "outputs": [
    {
     "data": {
      "application/javascript": [
       "parent.postMessage({\"jupyterEvent\": \"custom.exercise_interaction\", \"data\": {\"outcomeType\": 2, \"failureMessage\": \"Please save a CSV file and run this code cell again to get credit!\", \"interactionType\": 1, \"questionType\": 2, \"questionId\": \"3_SaveCSV\", \"learnToolsVersion\": \"0.3.4\", \"valueTowardsCompletion\": 0.0, \"exceptionClass\": \"\", \"trace\": \"\"}}, \"*\")"
      ],
      "text/plain": [
       "<IPython.core.display.Javascript object>"
      ]
     },
     "metadata": {},
     "output_type": "display_data"
    },
    {
     "data": {
      "text/markdown": [
       "<span style=\"color:#cc3333\">Incorrect:</span> Please save a CSV file and run this code cell again to get credit!"
      ],
      "text/plain": [
       "Incorrect: Please save a CSV file and run this code cell again to get credit!"
      ]
     },
     "metadata": {},
     "output_type": "display_data"
    }
   ],
   "source": [
    "# TODO: Save the police killings dataset to CSV\n",
    "____\n",
    "\n",
    "# Check your answer\n",
    "q3.check()"
   ]
  },
  {
   "cell_type": "code",
   "execution_count": 10,
   "id": "a54dccc1",
   "metadata": {
    "execution": {
     "iopub.execute_input": "2023-04-30T02:40:13.136445Z",
     "iopub.status.busy": "2023-04-30T02:40:13.135929Z",
     "iopub.status.idle": "2023-04-30T02:40:13.141446Z",
     "shell.execute_reply": "2023-04-30T02:40:13.140090Z"
    },
    "papermill": {
     "duration": 0.016143,
     "end_time": "2023-04-30T02:40:13.144421",
     "exception": false,
     "start_time": "2023-04-30T02:40:13.128278",
     "status": "completed"
    },
    "tags": []
   },
   "outputs": [],
   "source": [
    "# Lines below will give you a hint or solution code\n",
    "#q3.hint()\n",
    "#q3.solution()"
   ]
  },
  {
   "cell_type": "markdown",
   "id": "89881ecb",
   "metadata": {
    "papermill": {
     "duration": 0.005653,
     "end_time": "2023-04-30T02:40:13.156143",
     "exception": false,
     "start_time": "2023-04-30T02:40:13.150490",
     "status": "completed"
    },
    "tags": []
   },
   "source": [
    "# (Optional) More practice\n",
    "\n",
    "Check out [this dataset of files in different character encodings](https://www.kaggle.com/rtatman/character-encoding-examples). Can you read in all the files with their original encodings and them save them out as UTF-8 files?\n",
    "\n",
    "If you have a file that's in UTF-8 but has just a couple of weird-looking characters in it, you can try out the [ftfy module](https://ftfy.readthedocs.io/en/latest/#) and see if it helps. \n",
    "\n",
    "# Keep going\n",
    "\n",
    "In the final lesson, learn how to [**clean up inconsistent text entries**](https://www.kaggle.com/alexisbcook/inconsistent-data-entry) in your dataset."
   ]
  },
  {
   "cell_type": "markdown",
   "id": "6b24da15",
   "metadata": {
    "papermill": {
     "duration": 0.00553,
     "end_time": "2023-04-30T02:40:13.167602",
     "exception": false,
     "start_time": "2023-04-30T02:40:13.162072",
     "status": "completed"
    },
    "tags": []
   },
   "source": [
    "---\n",
    "\n",
    "\n",
    "\n",
    "\n",
    "*Have questions or comments? Visit the [course discussion forum](https://www.kaggle.com/learn/data-cleaning/discussion) to chat with other learners.*"
   ]
  }
 ],
 "metadata": {
  "kernelspec": {
   "display_name": "Python 3",
   "language": "python",
   "name": "python3"
  },
  "language_info": {
   "codemirror_mode": {
    "name": "ipython",
    "version": 3
   },
   "file_extension": ".py",
   "mimetype": "text/x-python",
   "name": "python",
   "nbconvert_exporter": "python",
   "pygments_lexer": "ipython3",
   "version": "3.7.12"
  },
  "papermill": {
   "default_parameters": {},
   "duration": 12.987431,
   "end_time": "2023-04-30T02:40:14.098537",
   "environment_variables": {},
   "exception": null,
   "input_path": "__notebook__.ipynb",
   "output_path": "__notebook__.ipynb",
   "parameters": {},
   "start_time": "2023-04-30T02:40:01.111106",
   "version": "2.4.0"
  }
 },
 "nbformat": 4,
 "nbformat_minor": 5
}

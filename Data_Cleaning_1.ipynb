{
 "cells": [
  {
   "cell_type": "markdown",
   "id": "21cd4e02",
   "metadata": {
    "papermill": {
     "duration": 0.008728,
     "end_time": "2023-04-30T01:52:34.180530",
     "exception": false,
     "start_time": "2023-04-30T01:52:34.171802",
     "status": "completed"
    },
    "tags": []
   },
   "source": [
    "**This notebook is an exercise in the [Data Cleaning](https://www.kaggle.com/learn/data-cleaning) course.  You can reference the tutorial at [this link](https://www.kaggle.com/alexisbcook/handling-missing-values).**\n",
    "\n",
    "---\n"
   ]
  },
  {
   "cell_type": "markdown",
   "id": "c60e85ff",
   "metadata": {
    "papermill": {
     "duration": 0.007113,
     "end_time": "2023-04-30T01:52:34.195294",
     "exception": false,
     "start_time": "2023-04-30T01:52:34.188181",
     "status": "completed"
    },
    "tags": []
   },
   "source": [
    "In this exercise, you'll apply what you learned in the **Handling missing values** tutorial.\n",
    "\n",
    "# Setup\n",
    "\n",
    "The questions below will give you feedback on your work. Run the following cell to set up the feedback system."
   ]
  },
  {
   "cell_type": "code",
   "execution_count": 1,
   "id": "dfa458e4",
   "metadata": {
    "execution": {
     "iopub.execute_input": "2023-04-30T01:52:34.212837Z",
     "iopub.status.busy": "2023-04-30T01:52:34.212086Z",
     "iopub.status.idle": "2023-04-30T01:52:38.416784Z",
     "shell.execute_reply": "2023-04-30T01:52:38.415386Z"
    },
    "papermill": {
     "duration": 4.216821,
     "end_time": "2023-04-30T01:52:38.419550",
     "exception": false,
     "start_time": "2023-04-30T01:52:34.202729",
     "status": "completed"
    },
    "tags": []
   },
   "outputs": [
    {
     "name": "stderr",
     "output_type": "stream",
     "text": [
      "/opt/conda/lib/python3.7/site-packages/ipykernel_launcher.py:3: DtypeWarning: Columns (22,32) have mixed types.Specify dtype option on import or set low_memory=False.\n",
      "  This is separate from the ipykernel package so we can avoid doing imports until\n"
     ]
    },
    {
     "name": "stdout",
     "output_type": "stream",
     "text": [
      "Setup Complete\n"
     ]
    }
   ],
   "source": [
    "from learntools.core import binder\n",
    "binder.bind(globals())\n",
    "from learntools.data_cleaning.ex1 import *\n",
    "print(\"Setup Complete\")"
   ]
  },
  {
   "cell_type": "markdown",
   "id": "f63ba970",
   "metadata": {
    "papermill": {
     "duration": 0.007472,
     "end_time": "2023-04-30T01:52:38.434914",
     "exception": false,
     "start_time": "2023-04-30T01:52:38.427442",
     "status": "completed"
    },
    "tags": []
   },
   "source": [
    "# 1) Take a first look at the data\n",
    "\n",
    "Run the next code cell to load in the libraries and dataset you'll use to complete the exercise."
   ]
  },
  {
   "cell_type": "code",
   "execution_count": 2,
   "id": "a5228437",
   "metadata": {
    "execution": {
     "iopub.execute_input": "2023-04-30T01:52:38.452816Z",
     "iopub.status.busy": "2023-04-30T01:52:38.451654Z",
     "iopub.status.idle": "2023-04-30T01:52:40.046991Z",
     "shell.execute_reply": "2023-04-30T01:52:40.045788Z"
    },
    "papermill": {
     "duration": 1.607523,
     "end_time": "2023-04-30T01:52:40.050112",
     "exception": false,
     "start_time": "2023-04-30T01:52:38.442589",
     "status": "completed"
    },
    "tags": []
   },
   "outputs": [
    {
     "name": "stderr",
     "output_type": "stream",
     "text": [
      "/opt/conda/lib/python3.7/site-packages/IPython/core/interactiveshell.py:3553: DtypeWarning: Columns (22,32) have mixed types.Specify dtype option on import or set low_memory=False.\n",
      "  exec(code_obj, self.user_global_ns, self.user_ns)\n"
     ]
    }
   ],
   "source": [
    "# modules we'll use\n",
    "import pandas as pd\n",
    "import numpy as np\n",
    "\n",
    "# read in all our data\n",
    "sf_permits = pd.read_csv(\"../input/building-permit-applications-data/Building_Permits.csv\")\n",
    "\n",
    "# set seed for reproducibility\n",
    "np.random.seed(0) "
   ]
  },
  {
   "cell_type": "markdown",
   "id": "802d5cc2",
   "metadata": {
    "papermill": {
     "duration": 0.00747,
     "end_time": "2023-04-30T01:52:40.065536",
     "exception": false,
     "start_time": "2023-04-30T01:52:40.058066",
     "status": "completed"
    },
    "tags": []
   },
   "source": [
    "Use the code cell below to print the first five rows of the `sf_permits` DataFrame."
   ]
  },
  {
   "cell_type": "code",
   "execution_count": 3,
   "id": "6532ac73",
   "metadata": {
    "execution": {
     "iopub.execute_input": "2023-04-30T01:52:40.083946Z",
     "iopub.status.busy": "2023-04-30T01:52:40.082672Z",
     "iopub.status.idle": "2023-04-30T01:52:40.352285Z",
     "shell.execute_reply": "2023-04-30T01:52:40.351348Z"
    },
    "papermill": {
     "duration": 0.281023,
     "end_time": "2023-04-30T01:52:40.354542",
     "exception": false,
     "start_time": "2023-04-30T01:52:40.073519",
     "status": "completed"
    },
    "tags": []
   },
   "outputs": [
    {
     "data": {
      "text/plain": [
       "Permit Number                  0\n",
       "Permit Type                    0\n",
       "Permit Type Definition         0\n",
       "Permit Creation Date           0\n",
       "Block                          0\n",
       "Lot                            0\n",
       "Street Number                  0\n",
       "Street Number Suffix      196684\n",
       "Street Name                    0\n",
       "Street Suffix               2768\n",
       "dtype: int64"
      ]
     },
     "execution_count": 3,
     "metadata": {},
     "output_type": "execute_result"
    }
   ],
   "source": [
    "# TODO: Your code here!\n",
    "sf_permits.head()\n",
    "missing_val = sf_permits.isnull().sum()\n",
    "missing_val[0:10]"
   ]
  },
  {
   "cell_type": "code",
   "execution_count": 4,
   "id": "23008520",
   "metadata": {
    "execution": {
     "iopub.execute_input": "2023-04-30T01:52:40.374142Z",
     "iopub.status.busy": "2023-04-30T01:52:40.373065Z",
     "iopub.status.idle": "2023-04-30T01:52:40.381947Z",
     "shell.execute_reply": "2023-04-30T01:52:40.380704Z"
    },
    "papermill": {
     "duration": 0.020654,
     "end_time": "2023-04-30T01:52:40.384329",
     "exception": false,
     "start_time": "2023-04-30T01:52:40.363675",
     "status": "completed"
    },
    "tags": []
   },
   "outputs": [
    {
     "data": {
      "text/plain": [
       "26.26002315058403"
      ]
     },
     "execution_count": 4,
     "metadata": {},
     "output_type": "execute_result"
    }
   ],
   "source": [
    "total = np.product(sf_permits.shape)\n",
    "total_miss = missing_val.sum()\n",
    "percent_miss = (total_miss/total)*100\n",
    "percent_miss\n"
   ]
  },
  {
   "cell_type": "markdown",
   "id": "e5647e4e",
   "metadata": {
    "execution": {
     "iopub.execute_input": "2023-04-25T07:56:44.801987Z",
     "iopub.status.busy": "2023-04-25T07:56:44.801407Z",
     "iopub.status.idle": "2023-04-25T07:56:44.822084Z",
     "shell.execute_reply": "2023-04-25T07:56:44.820280Z",
     "shell.execute_reply.started": "2023-04-25T07:56:44.801915Z"
    },
    "papermill": {
     "duration": 0.007833,
     "end_time": "2023-04-30T01:52:40.400636",
     "exception": false,
     "start_time": "2023-04-30T01:52:40.392803",
     "status": "completed"
    },
    "tags": []
   },
   "source": [
    "sf_permits[\"Street Number Suffix\"].isnull().sum()"
   ]
  },
  {
   "cell_type": "code",
   "execution_count": 5,
   "id": "d8e339c3",
   "metadata": {
    "execution": {
     "iopub.execute_input": "2023-04-30T01:52:40.419083Z",
     "iopub.status.busy": "2023-04-30T01:52:40.418511Z",
     "iopub.status.idle": "2023-04-30T01:52:40.445142Z",
     "shell.execute_reply": "2023-04-30T01:52:40.443920Z"
    },
    "papermill": {
     "duration": 0.039139,
     "end_time": "2023-04-30T01:52:40.447862",
     "exception": false,
     "start_time": "2023-04-30T01:52:40.408723",
     "status": "completed"
    },
    "tags": []
   },
   "outputs": [
    {
     "data": {
      "text/html": [
       "<div>\n",
       "<style scoped>\n",
       "    .dataframe tbody tr th:only-of-type {\n",
       "        vertical-align: middle;\n",
       "    }\n",
       "\n",
       "    .dataframe tbody tr th {\n",
       "        vertical-align: top;\n",
       "    }\n",
       "\n",
       "    .dataframe thead th {\n",
       "        text-align: right;\n",
       "    }\n",
       "</style>\n",
       "<table border=\"1\" class=\"dataframe\">\n",
       "  <thead>\n",
       "    <tr style=\"text-align: right;\">\n",
       "      <th></th>\n",
       "      <th>Street Number Suffix</th>\n",
       "      <th>Zipcode</th>\n",
       "    </tr>\n",
       "  </thead>\n",
       "  <tbody>\n",
       "    <tr>\n",
       "      <th>0</th>\n",
       "      <td>NaN</td>\n",
       "      <td>94102.0</td>\n",
       "    </tr>\n",
       "    <tr>\n",
       "      <th>1</th>\n",
       "      <td>NaN</td>\n",
       "      <td>94102.0</td>\n",
       "    </tr>\n",
       "    <tr>\n",
       "      <th>2</th>\n",
       "      <td>NaN</td>\n",
       "      <td>94109.0</td>\n",
       "    </tr>\n",
       "    <tr>\n",
       "      <th>3</th>\n",
       "      <td>NaN</td>\n",
       "      <td>94109.0</td>\n",
       "    </tr>\n",
       "    <tr>\n",
       "      <th>4</th>\n",
       "      <td>NaN</td>\n",
       "      <td>94102.0</td>\n",
       "    </tr>\n",
       "  </tbody>\n",
       "</table>\n",
       "</div>"
      ],
      "text/plain": [
       "  Street Number Suffix  Zipcode\n",
       "0                  NaN  94102.0\n",
       "1                  NaN  94102.0\n",
       "2                  NaN  94109.0\n",
       "3                  NaN  94109.0\n",
       "4                  NaN  94102.0"
      ]
     },
     "execution_count": 5,
     "metadata": {},
     "output_type": "execute_result"
    }
   ],
   "source": [
    "sf_permits[[\"Street Number Suffix\",'Zipcode']].head()"
   ]
  },
  {
   "cell_type": "code",
   "execution_count": 6,
   "id": "c2bdde71",
   "metadata": {
    "execution": {
     "iopub.execute_input": "2023-04-30T01:52:40.466978Z",
     "iopub.status.busy": "2023-04-30T01:52:40.466475Z",
     "iopub.status.idle": "2023-04-30T01:52:40.747227Z",
     "shell.execute_reply": "2023-04-30T01:52:40.745971Z"
    },
    "papermill": {
     "duration": 0.293107,
     "end_time": "2023-04-30T01:52:40.749966",
     "exception": false,
     "start_time": "2023-04-30T01:52:40.456859",
     "status": "completed"
    },
    "tags": []
   },
   "outputs": [
    {
     "name": "stdout",
     "output_type": "stream",
     "text": [
      "<class 'pandas.core.frame.DataFrame'>\n",
      "RangeIndex: 198900 entries, 0 to 198899\n",
      "Data columns (total 43 columns):\n",
      " #   Column                                  Non-Null Count   Dtype  \n",
      "---  ------                                  --------------   -----  \n",
      " 0   Permit Number                           198900 non-null  object \n",
      " 1   Permit Type                             198900 non-null  int64  \n",
      " 2   Permit Type Definition                  198900 non-null  object \n",
      " 3   Permit Creation Date                    198900 non-null  object \n",
      " 4   Block                                   198900 non-null  object \n",
      " 5   Lot                                     198900 non-null  object \n",
      " 6   Street Number                           198900 non-null  int64  \n",
      " 7   Street Number Suffix                    2216 non-null    object \n",
      " 8   Street Name                             198900 non-null  object \n",
      " 9   Street Suffix                           196132 non-null  object \n",
      " 10  Unit                                    29479 non-null   float64\n",
      " 11  Unit Suffix                             1961 non-null    object \n",
      " 12  Description                             198610 non-null  object \n",
      " 13  Current Status                          198900 non-null  object \n",
      " 14  Current Status Date                     198900 non-null  object \n",
      " 15  Filed Date                              198900 non-null  object \n",
      " 16  Issued Date                             183960 non-null  object \n",
      " 17  Completed Date                          97191 non-null   object \n",
      " 18  First Construction Document Date        183954 non-null  object \n",
      " 19  Structural Notification                 6922 non-null    object \n",
      " 20  Number of Existing Stories              156116 non-null  float64\n",
      " 21  Number of Proposed Stories              156032 non-null  float64\n",
      " 22  Voluntary Soft-Story Retrofit           35 non-null      object \n",
      " 23  Fire Only Permit                        18827 non-null   object \n",
      " 24  Permit Expiration Date                  147020 non-null  object \n",
      " 25  Estimated Cost                          160834 non-null  float64\n",
      " 26  Revised Cost                            192834 non-null  float64\n",
      " 27  Existing Use                            157786 non-null  object \n",
      " 28  Existing Units                          147362 non-null  float64\n",
      " 29  Proposed Use                            156461 non-null  object \n",
      " 30  Proposed Units                          147989 non-null  float64\n",
      " 31  Plansets                                161591 non-null  float64\n",
      " 32  TIDF Compliance                         2 non-null       object \n",
      " 33  Existing Construction Type              155534 non-null  float64\n",
      " 34  Existing Construction Type Description  155534 non-null  object \n",
      " 35  Proposed Construction Type              155738 non-null  float64\n",
      " 36  Proposed Construction Type Description  155738 non-null  object \n",
      " 37  Site Permit                             5359 non-null    object \n",
      " 38  Supervisor District                     197183 non-null  float64\n",
      " 39  Neighborhoods - Analysis Boundaries     197175 non-null  object \n",
      " 40  Zipcode                                 197184 non-null  float64\n",
      " 41  Location                                197200 non-null  object \n",
      " 42  Record ID                               198900 non-null  int64  \n",
      "dtypes: float64(12), int64(3), object(28)\n",
      "memory usage: 65.3+ MB\n"
     ]
    }
   ],
   "source": [
    "sf_permits.info()"
   ]
  },
  {
   "cell_type": "code",
   "execution_count": 7,
   "id": "b796f4b8",
   "metadata": {
    "execution": {
     "iopub.execute_input": "2023-04-30T01:52:40.768647Z",
     "iopub.status.busy": "2023-04-30T01:52:40.768204Z",
     "iopub.status.idle": "2023-04-30T01:52:40.801206Z",
     "shell.execute_reply": "2023-04-30T01:52:40.800227Z"
    },
    "papermill": {
     "duration": 0.045441,
     "end_time": "2023-04-30T01:52:40.803791",
     "exception": false,
     "start_time": "2023-04-30T01:52:40.758350",
     "status": "completed"
    },
    "tags": []
   },
   "outputs": [
    {
     "data": {
      "text/html": [
       "<div>\n",
       "<style scoped>\n",
       "    .dataframe tbody tr th:only-of-type {\n",
       "        vertical-align: middle;\n",
       "    }\n",
       "\n",
       "    .dataframe tbody tr th {\n",
       "        vertical-align: top;\n",
       "    }\n",
       "\n",
       "    .dataframe thead th {\n",
       "        text-align: right;\n",
       "    }\n",
       "</style>\n",
       "<table border=\"1\" class=\"dataframe\">\n",
       "  <thead>\n",
       "    <tr style=\"text-align: right;\">\n",
       "      <th></th>\n",
       "      <th>Permit Number</th>\n",
       "      <th>Permit Type</th>\n",
       "      <th>Permit Type Definition</th>\n",
       "      <th>Permit Creation Date</th>\n",
       "      <th>Block</th>\n",
       "      <th>Lot</th>\n",
       "      <th>Street Number</th>\n",
       "      <th>Street Number Suffix</th>\n",
       "      <th>Street Name</th>\n",
       "      <th>Street Suffix</th>\n",
       "      <th>...</th>\n",
       "      <th>Existing Construction Type</th>\n",
       "      <th>Existing Construction Type Description</th>\n",
       "      <th>Proposed Construction Type</th>\n",
       "      <th>Proposed Construction Type Description</th>\n",
       "      <th>Site Permit</th>\n",
       "      <th>Supervisor District</th>\n",
       "      <th>Neighborhoods - Analysis Boundaries</th>\n",
       "      <th>Zipcode</th>\n",
       "      <th>Location</th>\n",
       "      <th>Record ID</th>\n",
       "    </tr>\n",
       "  </thead>\n",
       "  <tbody>\n",
       "    <tr>\n",
       "      <th>0</th>\n",
       "      <td>201505065519</td>\n",
       "      <td>4</td>\n",
       "      <td>sign - erect</td>\n",
       "      <td>05/06/2015</td>\n",
       "      <td>0326</td>\n",
       "      <td>023</td>\n",
       "      <td>140</td>\n",
       "      <td>NaN</td>\n",
       "      <td>Ellis</td>\n",
       "      <td>St</td>\n",
       "      <td>...</td>\n",
       "      <td>3.0</td>\n",
       "      <td>constr type 3</td>\n",
       "      <td>NaN</td>\n",
       "      <td>NaN</td>\n",
       "      <td>NaN</td>\n",
       "      <td>3.0</td>\n",
       "      <td>Tenderloin</td>\n",
       "      <td>94102.0</td>\n",
       "      <td>(37.785719256680785, -122.40852313194863)</td>\n",
       "      <td>1380611233945</td>\n",
       "    </tr>\n",
       "    <tr>\n",
       "      <th>1</th>\n",
       "      <td>201604195146</td>\n",
       "      <td>4</td>\n",
       "      <td>sign - erect</td>\n",
       "      <td>04/19/2016</td>\n",
       "      <td>0306</td>\n",
       "      <td>007</td>\n",
       "      <td>440</td>\n",
       "      <td>NaN</td>\n",
       "      <td>Geary</td>\n",
       "      <td>St</td>\n",
       "      <td>...</td>\n",
       "      <td>3.0</td>\n",
       "      <td>constr type 3</td>\n",
       "      <td>NaN</td>\n",
       "      <td>NaN</td>\n",
       "      <td>NaN</td>\n",
       "      <td>3.0</td>\n",
       "      <td>Tenderloin</td>\n",
       "      <td>94102.0</td>\n",
       "      <td>(37.78733980600732, -122.41063199757738)</td>\n",
       "      <td>1420164406718</td>\n",
       "    </tr>\n",
       "    <tr>\n",
       "      <th>2</th>\n",
       "      <td>201605278609</td>\n",
       "      <td>3</td>\n",
       "      <td>additions alterations or repairs</td>\n",
       "      <td>05/27/2016</td>\n",
       "      <td>0595</td>\n",
       "      <td>203</td>\n",
       "      <td>1647</td>\n",
       "      <td>NaN</td>\n",
       "      <td>Pacific</td>\n",
       "      <td>Av</td>\n",
       "      <td>...</td>\n",
       "      <td>1.0</td>\n",
       "      <td>constr type 1</td>\n",
       "      <td>1.0</td>\n",
       "      <td>constr type 1</td>\n",
       "      <td>NaN</td>\n",
       "      <td>3.0</td>\n",
       "      <td>Russian Hill</td>\n",
       "      <td>94109.0</td>\n",
       "      <td>(37.7946573324287, -122.42232562979227)</td>\n",
       "      <td>1424856504716</td>\n",
       "    </tr>\n",
       "    <tr>\n",
       "      <th>3</th>\n",
       "      <td>201611072166</td>\n",
       "      <td>8</td>\n",
       "      <td>otc alterations permit</td>\n",
       "      <td>11/07/2016</td>\n",
       "      <td>0156</td>\n",
       "      <td>011</td>\n",
       "      <td>1230</td>\n",
       "      <td>NaN</td>\n",
       "      <td>Pacific</td>\n",
       "      <td>Av</td>\n",
       "      <td>...</td>\n",
       "      <td>5.0</td>\n",
       "      <td>wood frame (5)</td>\n",
       "      <td>5.0</td>\n",
       "      <td>wood frame (5)</td>\n",
       "      <td>NaN</td>\n",
       "      <td>3.0</td>\n",
       "      <td>Nob Hill</td>\n",
       "      <td>94109.0</td>\n",
       "      <td>(37.79595867909168, -122.41557405519474)</td>\n",
       "      <td>1443574295566</td>\n",
       "    </tr>\n",
       "    <tr>\n",
       "      <th>4</th>\n",
       "      <td>201611283529</td>\n",
       "      <td>6</td>\n",
       "      <td>demolitions</td>\n",
       "      <td>11/28/2016</td>\n",
       "      <td>0342</td>\n",
       "      <td>001</td>\n",
       "      <td>950</td>\n",
       "      <td>NaN</td>\n",
       "      <td>Market</td>\n",
       "      <td>St</td>\n",
       "      <td>...</td>\n",
       "      <td>3.0</td>\n",
       "      <td>constr type 3</td>\n",
       "      <td>NaN</td>\n",
       "      <td>NaN</td>\n",
       "      <td>NaN</td>\n",
       "      <td>6.0</td>\n",
       "      <td>Tenderloin</td>\n",
       "      <td>94102.0</td>\n",
       "      <td>(37.78315261897309, -122.40950883997789)</td>\n",
       "      <td>144548169992</td>\n",
       "    </tr>\n",
       "  </tbody>\n",
       "</table>\n",
       "<p>5 rows × 43 columns</p>\n",
       "</div>"
      ],
      "text/plain": [
       "  Permit Number  Permit Type            Permit Type Definition  \\\n",
       "0  201505065519            4                      sign - erect   \n",
       "1  201604195146            4                      sign - erect   \n",
       "2  201605278609            3  additions alterations or repairs   \n",
       "3  201611072166            8            otc alterations permit   \n",
       "4  201611283529            6                       demolitions   \n",
       "\n",
       "  Permit Creation Date Block  Lot  Street Number Street Number Suffix  \\\n",
       "0           05/06/2015  0326  023            140                  NaN   \n",
       "1           04/19/2016  0306  007            440                  NaN   \n",
       "2           05/27/2016  0595  203           1647                  NaN   \n",
       "3           11/07/2016  0156  011           1230                  NaN   \n",
       "4           11/28/2016  0342  001            950                  NaN   \n",
       "\n",
       "  Street Name Street Suffix  ...  Existing Construction Type  \\\n",
       "0       Ellis            St  ...                         3.0   \n",
       "1       Geary            St  ...                         3.0   \n",
       "2     Pacific            Av  ...                         1.0   \n",
       "3     Pacific            Av  ...                         5.0   \n",
       "4      Market            St  ...                         3.0   \n",
       "\n",
       "  Existing Construction Type Description Proposed Construction Type  \\\n",
       "0                          constr type 3                        NaN   \n",
       "1                          constr type 3                        NaN   \n",
       "2                          constr type 1                        1.0   \n",
       "3                         wood frame (5)                        5.0   \n",
       "4                          constr type 3                        NaN   \n",
       "\n",
       "  Proposed Construction Type Description Site Permit Supervisor District  \\\n",
       "0                                    NaN         NaN                 3.0   \n",
       "1                                    NaN         NaN                 3.0   \n",
       "2                          constr type 1         NaN                 3.0   \n",
       "3                         wood frame (5)         NaN                 3.0   \n",
       "4                                    NaN         NaN                 6.0   \n",
       "\n",
       "  Neighborhoods - Analysis Boundaries  Zipcode  \\\n",
       "0                          Tenderloin  94102.0   \n",
       "1                          Tenderloin  94102.0   \n",
       "2                        Russian Hill  94109.0   \n",
       "3                            Nob Hill  94109.0   \n",
       "4                          Tenderloin  94102.0   \n",
       "\n",
       "                                    Location      Record ID  \n",
       "0  (37.785719256680785, -122.40852313194863)  1380611233945  \n",
       "1   (37.78733980600732, -122.41063199757738)  1420164406718  \n",
       "2    (37.7946573324287, -122.42232562979227)  1424856504716  \n",
       "3   (37.79595867909168, -122.41557405519474)  1443574295566  \n",
       "4   (37.78315261897309, -122.40950883997789)   144548169992  \n",
       "\n",
       "[5 rows x 43 columns]"
      ]
     },
     "execution_count": 7,
     "metadata": {},
     "output_type": "execute_result"
    }
   ],
   "source": [
    "sf_permits[0:10].head()"
   ]
  },
  {
   "cell_type": "code",
   "execution_count": 8,
   "id": "4ced7165",
   "metadata": {
    "execution": {
     "iopub.execute_input": "2023-04-30T01:52:40.825021Z",
     "iopub.status.busy": "2023-04-30T01:52:40.824251Z",
     "iopub.status.idle": "2023-04-30T01:52:41.198896Z",
     "shell.execute_reply": "2023-04-30T01:52:41.197610Z"
    },
    "papermill": {
     "duration": 0.388553,
     "end_time": "2023-04-30T01:52:41.201671",
     "exception": false,
     "start_time": "2023-04-30T01:52:40.813118",
     "status": "completed"
    },
    "tags": []
   },
   "outputs": [
    {
     "name": "stdout",
     "output_type": "stream",
     "text": [
      "<class 'pandas.core.frame.DataFrame'>\n",
      "RangeIndex: 198900 entries, 0 to 198899\n",
      "Data columns (total 12 columns):\n",
      " #   Column                  Non-Null Count   Dtype \n",
      "---  ------                  --------------   ----- \n",
      " 0   Permit Number           198900 non-null  object\n",
      " 1   Permit Type             198900 non-null  int64 \n",
      " 2   Permit Type Definition  198900 non-null  object\n",
      " 3   Permit Creation Date    198900 non-null  object\n",
      " 4   Block                   198900 non-null  object\n",
      " 5   Lot                     198900 non-null  object\n",
      " 6   Street Number           198900 non-null  int64 \n",
      " 7   Street Name             198900 non-null  object\n",
      " 8   Current Status          198900 non-null  object\n",
      " 9   Current Status Date     198900 non-null  object\n",
      " 10  Filed Date              198900 non-null  object\n",
      " 11  Record ID               198900 non-null  int64 \n",
      "dtypes: int64(3), object(9)\n",
      "memory usage: 18.2+ MB\n"
     ]
    }
   ],
   "source": [
    "columdrop= sf_permits.dropna(axis=1)\n",
    "columdrop.info()"
   ]
  },
  {
   "cell_type": "code",
   "execution_count": 9,
   "id": "20d275cd",
   "metadata": {
    "execution": {
     "iopub.execute_input": "2023-04-30T01:52:41.221946Z",
     "iopub.status.busy": "2023-04-30T01:52:41.220803Z",
     "iopub.status.idle": "2023-04-30T01:52:41.316850Z",
     "shell.execute_reply": "2023-04-30T01:52:41.315604Z"
    },
    "papermill": {
     "duration": 0.108874,
     "end_time": "2023-04-30T01:52:41.319506",
     "exception": false,
     "start_time": "2023-04-30T01:52:41.210632",
     "status": "completed"
    },
    "tags": []
   },
   "outputs": [
    {
     "data": {
      "text/plain": [
       "Permit Number             0\n",
       "Permit Type               0\n",
       "Permit Type Definition    0\n",
       "Permit Creation Date      0\n",
       "Block                     0\n",
       "Lot                       0\n",
       "Street Number             0\n",
       "Street Name               0\n",
       "Current Status            0\n",
       "Current Status Date       0\n",
       "Filed Date                0\n",
       "Record ID                 0\n",
       "dtype: int64"
      ]
     },
     "execution_count": 9,
     "metadata": {},
     "output_type": "execute_result"
    }
   ],
   "source": [
    "columdrop.isnull().sum()"
   ]
  },
  {
   "cell_type": "markdown",
   "id": "ad6bf688",
   "metadata": {
    "papermill": {
     "duration": 0.009105,
     "end_time": "2023-04-30T01:52:41.337711",
     "exception": false,
     "start_time": "2023-04-30T01:52:41.328606",
     "status": "completed"
    },
    "tags": []
   },
   "source": [
    "Does the dataset have any missing values?  Once you have an answer, run the code cell below to get credit for your work."
   ]
  },
  {
   "cell_type": "code",
   "execution_count": 10,
   "id": "b7c16617",
   "metadata": {
    "execution": {
     "iopub.execute_input": "2023-04-30T01:52:41.357925Z",
     "iopub.status.busy": "2023-04-30T01:52:41.357403Z",
     "iopub.status.idle": "2023-04-30T01:52:41.366841Z",
     "shell.execute_reply": "2023-04-30T01:52:41.365580Z"
    },
    "papermill": {
     "duration": 0.022476,
     "end_time": "2023-04-30T01:52:41.369263",
     "exception": false,
     "start_time": "2023-04-30T01:52:41.346787",
     "status": "completed"
    },
    "tags": []
   },
   "outputs": [
    {
     "data": {
      "application/javascript": [
       "parent.postMessage({\"jupyterEvent\": \"custom.exercise_interaction\", \"data\": {\"outcomeType\": 1, \"valueTowardsCompletion\": 0.16666666666666666, \"interactionType\": 1, \"questionType\": 4, \"questionId\": \"1_TakeFirstLook\", \"learnToolsVersion\": \"0.3.4\", \"failureMessage\": \"\", \"exceptionClass\": \"\", \"trace\": \"\"}}, \"*\")"
      ],
      "text/plain": [
       "<IPython.core.display.Javascript object>"
      ]
     },
     "metadata": {},
     "output_type": "display_data"
    },
    {
     "data": {
      "text/markdown": [
       "<span style=\"color:#33cc33\">Correct:</span> \n",
       "\n",
       "The first five rows of the data does show that several columns have missing values.  You can see this in the \"Street Number Suffix\", \"Proposed Construction Type\" and \"Site Permit\" columns, among others."
      ],
      "text/plain": [
       "Correct: \n",
       "\n",
       "The first five rows of the data does show that several columns have missing values.  You can see this in the \"Street Number Suffix\", \"Proposed Construction Type\" and \"Site Permit\" columns, among others."
      ]
     },
     "metadata": {},
     "output_type": "display_data"
    }
   ],
   "source": [
    "# Check your answer (Run this code cell to receive credit!)\n",
    "q1.check()"
   ]
  },
  {
   "cell_type": "code",
   "execution_count": 11,
   "id": "01c4c9c7",
   "metadata": {
    "execution": {
     "iopub.execute_input": "2023-04-30T01:52:41.390041Z",
     "iopub.status.busy": "2023-04-30T01:52:41.389598Z",
     "iopub.status.idle": "2023-04-30T01:52:41.394514Z",
     "shell.execute_reply": "2023-04-30T01:52:41.393179Z"
    },
    "papermill": {
     "duration": 0.018267,
     "end_time": "2023-04-30T01:52:41.396886",
     "exception": false,
     "start_time": "2023-04-30T01:52:41.378619",
     "status": "completed"
    },
    "tags": []
   },
   "outputs": [],
   "source": [
    "# Line below will give you a hint\n",
    "#q1.hint()"
   ]
  },
  {
   "cell_type": "markdown",
   "id": "502eebed",
   "metadata": {
    "papermill": {
     "duration": 0.009767,
     "end_time": "2023-04-30T01:52:41.416089",
     "exception": false,
     "start_time": "2023-04-30T01:52:41.406322",
     "status": "completed"
    },
    "tags": []
   },
   "source": [
    "# 2) How many missing data points do we have?\n",
    "\n",
    "What percentage of the values in the dataset are missing?  Your answer should be a number between 0 and 100.  (If 1/4 of the values in the dataset are missing, the answer is 25.)"
   ]
  },
  {
   "cell_type": "code",
   "execution_count": 12,
   "id": "cd4049af",
   "metadata": {
    "execution": {
     "iopub.execute_input": "2023-04-30T01:52:41.437380Z",
     "iopub.status.busy": "2023-04-30T01:52:41.436212Z",
     "iopub.status.idle": "2023-04-30T01:52:41.446459Z",
     "shell.execute_reply": "2023-04-30T01:52:41.445342Z"
    },
    "papermill": {
     "duration": 0.023724,
     "end_time": "2023-04-30T01:52:41.449061",
     "exception": false,
     "start_time": "2023-04-30T01:52:41.425337",
     "status": "completed"
    },
    "tags": []
   },
   "outputs": [
    {
     "data": {
      "application/javascript": [
       "parent.postMessage({\"jupyterEvent\": \"custom.exercise_interaction\", \"data\": {\"outcomeType\": 1, \"valueTowardsCompletion\": 0.16666666666666666, \"interactionType\": 1, \"questionType\": 1, \"questionId\": \"2_PercentMissingValues\", \"learnToolsVersion\": \"0.3.4\", \"failureMessage\": \"\", \"exceptionClass\": \"\", \"trace\": \"\"}}, \"*\")"
      ],
      "text/plain": [
       "<IPython.core.display.Javascript object>"
      ]
     },
     "metadata": {},
     "output_type": "display_data"
    },
    {
     "data": {
      "text/markdown": [
       "<span style=\"color:#33cc33\">Correct</span>"
      ],
      "text/plain": [
       "Correct"
      ]
     },
     "metadata": {},
     "output_type": "display_data"
    }
   ],
   "source": [
    "# TODO: Your code here!\n",
    "percent_missing = 26.26002315058403\n",
    "\n",
    "# Check your answer\n",
    "q2.check()"
   ]
  },
  {
   "cell_type": "code",
   "execution_count": 13,
   "id": "61889e39",
   "metadata": {
    "execution": {
     "iopub.execute_input": "2023-04-30T01:52:41.470743Z",
     "iopub.status.busy": "2023-04-30T01:52:41.470294Z",
     "iopub.status.idle": "2023-04-30T01:52:41.475911Z",
     "shell.execute_reply": "2023-04-30T01:52:41.474353Z"
    },
    "papermill": {
     "duration": 0.019356,
     "end_time": "2023-04-30T01:52:41.478382",
     "exception": false,
     "start_time": "2023-04-30T01:52:41.459026",
     "status": "completed"
    },
    "tags": []
   },
   "outputs": [],
   "source": [
    "# Lines below will give you a hint or solution code\n",
    "#q2.hint()\n",
    "#q2.solution()"
   ]
  },
  {
   "cell_type": "markdown",
   "id": "171785ab",
   "metadata": {
    "papermill": {
     "duration": 0.010711,
     "end_time": "2023-04-30T01:52:41.499019",
     "exception": false,
     "start_time": "2023-04-30T01:52:41.488308",
     "status": "completed"
    },
    "tags": []
   },
   "source": [
    "# 3) Figure out why the data is missing\n",
    "\n",
    "Look at the columns **\"Street Number Suffix\"** and **\"Zipcode\"** from the [San Francisco Building Permits dataset](https://www.kaggle.com/aparnashastry/building-permit-applications-data). Both of these contain missing values. \n",
    "- Which, if either, are missing because they don't exist? \n",
    "- Which, if either, are missing because they weren't recorded?  \n",
    "\n",
    "Once you have an answer, run the code cell below."
   ]
  },
  {
   "cell_type": "code",
   "execution_count": 14,
   "id": "5c830a1c",
   "metadata": {
    "execution": {
     "iopub.execute_input": "2023-04-30T01:52:41.524406Z",
     "iopub.status.busy": "2023-04-30T01:52:41.524006Z",
     "iopub.status.idle": "2023-04-30T01:52:41.533505Z",
     "shell.execute_reply": "2023-04-30T01:52:41.532308Z"
    },
    "papermill": {
     "duration": 0.023458,
     "end_time": "2023-04-30T01:52:41.535991",
     "exception": false,
     "start_time": "2023-04-30T01:52:41.512533",
     "status": "completed"
    },
    "tags": []
   },
   "outputs": [
    {
     "data": {
      "application/javascript": [
       "parent.postMessage({\"jupyterEvent\": \"custom.exercise_interaction\", \"data\": {\"outcomeType\": 1, \"valueTowardsCompletion\": 0.16666666666666666, \"interactionType\": 1, \"questionType\": 4, \"questionId\": \"3_WhyDataMissing\", \"learnToolsVersion\": \"0.3.4\", \"failureMessage\": \"\", \"exceptionClass\": \"\", \"trace\": \"\"}}, \"*\")"
      ],
      "text/plain": [
       "<IPython.core.display.Javascript object>"
      ]
     },
     "metadata": {},
     "output_type": "display_data"
    },
    {
     "data": {
      "text/markdown": [
       "<span style=\"color:#33cc33\">Correct:</span> \n",
       "\n",
       "If a value in the \"Street Number Suffix\" column is missing, it is likely because it does not exist. If a value in the \"Zipcode\" column is missing, it was not recorded."
      ],
      "text/plain": [
       "Correct: \n",
       "\n",
       "If a value in the \"Street Number Suffix\" column is missing, it is likely because it does not exist. If a value in the \"Zipcode\" column is missing, it was not recorded."
      ]
     },
     "metadata": {},
     "output_type": "display_data"
    }
   ],
   "source": [
    "# Check your answer (Run this code cell to receive credit!)\n",
    "q3.check()"
   ]
  },
  {
   "cell_type": "code",
   "execution_count": 15,
   "id": "ba6b6fdb",
   "metadata": {
    "execution": {
     "iopub.execute_input": "2023-04-30T01:52:41.557820Z",
     "iopub.status.busy": "2023-04-30T01:52:41.557409Z",
     "iopub.status.idle": "2023-04-30T01:52:41.562523Z",
     "shell.execute_reply": "2023-04-30T01:52:41.561271Z"
    },
    "papermill": {
     "duration": 0.019141,
     "end_time": "2023-04-30T01:52:41.565096",
     "exception": false,
     "start_time": "2023-04-30T01:52:41.545955",
     "status": "completed"
    },
    "tags": []
   },
   "outputs": [],
   "source": [
    "# Line below will give you a hint\n",
    "#q3.hint()"
   ]
  },
  {
   "cell_type": "markdown",
   "id": "c3bc622e",
   "metadata": {
    "papermill": {
     "duration": 0.009666,
     "end_time": "2023-04-30T01:52:41.585367",
     "exception": false,
     "start_time": "2023-04-30T01:52:41.575701",
     "status": "completed"
    },
    "tags": []
   },
   "source": [
    "# 4) Drop missing values: rows\n",
    "\n",
    "If you removed all of the rows of `sf_permits` with missing values, how many rows are left?\n",
    "\n",
    "**Note**: Do not change the value of `sf_permits` when checking this.  "
   ]
  },
  {
   "cell_type": "code",
   "execution_count": 16,
   "id": "b9f9981a",
   "metadata": {
    "execution": {
     "iopub.execute_input": "2023-04-30T01:52:41.607795Z",
     "iopub.status.busy": "2023-04-30T01:52:41.606876Z",
     "iopub.status.idle": "2023-04-30T01:52:41.886641Z",
     "shell.execute_reply": "2023-04-30T01:52:41.885492Z"
    },
    "papermill": {
     "duration": 0.293796,
     "end_time": "2023-04-30T01:52:41.889230",
     "exception": false,
     "start_time": "2023-04-30T01:52:41.595434",
     "status": "completed"
    },
    "tags": []
   },
   "outputs": [
    {
     "data": {
      "text/html": [
       "<div>\n",
       "<style scoped>\n",
       "    .dataframe tbody tr th:only-of-type {\n",
       "        vertical-align: middle;\n",
       "    }\n",
       "\n",
       "    .dataframe tbody tr th {\n",
       "        vertical-align: top;\n",
       "    }\n",
       "\n",
       "    .dataframe thead th {\n",
       "        text-align: right;\n",
       "    }\n",
       "</style>\n",
       "<table border=\"1\" class=\"dataframe\">\n",
       "  <thead>\n",
       "    <tr style=\"text-align: right;\">\n",
       "      <th></th>\n",
       "      <th>Permit Number</th>\n",
       "      <th>Permit Type</th>\n",
       "      <th>Permit Type Definition</th>\n",
       "      <th>Permit Creation Date</th>\n",
       "      <th>Block</th>\n",
       "      <th>Lot</th>\n",
       "      <th>Street Number</th>\n",
       "      <th>Street Number Suffix</th>\n",
       "      <th>Street Name</th>\n",
       "      <th>Street Suffix</th>\n",
       "      <th>...</th>\n",
       "      <th>Existing Construction Type</th>\n",
       "      <th>Existing Construction Type Description</th>\n",
       "      <th>Proposed Construction Type</th>\n",
       "      <th>Proposed Construction Type Description</th>\n",
       "      <th>Site Permit</th>\n",
       "      <th>Supervisor District</th>\n",
       "      <th>Neighborhoods - Analysis Boundaries</th>\n",
       "      <th>Zipcode</th>\n",
       "      <th>Location</th>\n",
       "      <th>Record ID</th>\n",
       "    </tr>\n",
       "  </thead>\n",
       "  <tbody>\n",
       "  </tbody>\n",
       "</table>\n",
       "<p>0 rows × 43 columns</p>\n",
       "</div>"
      ],
      "text/plain": [
       "Empty DataFrame\n",
       "Columns: [Permit Number, Permit Type, Permit Type Definition, Permit Creation Date, Block, Lot, Street Number, Street Number Suffix, Street Name, Street Suffix, Unit, Unit Suffix, Description, Current Status, Current Status Date, Filed Date, Issued Date, Completed Date, First Construction Document Date, Structural Notification, Number of Existing Stories, Number of Proposed Stories, Voluntary Soft-Story Retrofit, Fire Only Permit, Permit Expiration Date, Estimated Cost, Revised Cost, Existing Use, Existing Units, Proposed Use, Proposed Units, Plansets, TIDF Compliance, Existing Construction Type, Existing Construction Type Description, Proposed Construction Type, Proposed Construction Type Description, Site Permit, Supervisor District, Neighborhoods - Analysis Boundaries, Zipcode, Location, Record ID]\n",
       "Index: []\n",
       "\n",
       "[0 rows x 43 columns]"
      ]
     },
     "execution_count": 16,
     "metadata": {},
     "output_type": "execute_result"
    }
   ],
   "source": [
    "# TODO: Your code here!\n",
    "sf_permits.dropna(axis=0)"
   ]
  },
  {
   "cell_type": "markdown",
   "id": "156db7ea",
   "metadata": {
    "papermill": {
     "duration": 0.009593,
     "end_time": "2023-04-30T01:52:41.908888",
     "exception": false,
     "start_time": "2023-04-30T01:52:41.899295",
     "status": "completed"
    },
    "tags": []
   },
   "source": [
    "Once you have an answer, run the code cell below."
   ]
  },
  {
   "cell_type": "code",
   "execution_count": 17,
   "id": "73610281",
   "metadata": {
    "execution": {
     "iopub.execute_input": "2023-04-30T01:52:41.930665Z",
     "iopub.status.busy": "2023-04-30T01:52:41.930214Z",
     "iopub.status.idle": "2023-04-30T01:52:41.939735Z",
     "shell.execute_reply": "2023-04-30T01:52:41.938568Z"
    },
    "papermill": {
     "duration": 0.02342,
     "end_time": "2023-04-30T01:52:41.942320",
     "exception": false,
     "start_time": "2023-04-30T01:52:41.918900",
     "status": "completed"
    },
    "tags": []
   },
   "outputs": [
    {
     "data": {
      "application/javascript": [
       "parent.postMessage({\"jupyterEvent\": \"custom.exercise_interaction\", \"data\": {\"outcomeType\": 1, \"valueTowardsCompletion\": 0.16666666666666666, \"interactionType\": 1, \"questionType\": 4, \"questionId\": \"4_DropMissingRows\", \"learnToolsVersion\": \"0.3.4\", \"failureMessage\": \"\", \"exceptionClass\": \"\", \"trace\": \"\"}}, \"*\")"
      ],
      "text/plain": [
       "<IPython.core.display.Javascript object>"
      ]
     },
     "metadata": {},
     "output_type": "display_data"
    },
    {
     "data": {
      "text/markdown": [
       "<span style=\"color:#33cc33\">Correct:</span> \n",
       "\n",
       "There are no rows remaining in the dataset!"
      ],
      "text/plain": [
       "Correct: \n",
       "\n",
       "There are no rows remaining in the dataset!"
      ]
     },
     "metadata": {},
     "output_type": "display_data"
    }
   ],
   "source": [
    "# Check your answer (Run this code cell to receive credit!)\n",
    "q4.check()"
   ]
  },
  {
   "cell_type": "code",
   "execution_count": 18,
   "id": "8ab0423a",
   "metadata": {
    "execution": {
     "iopub.execute_input": "2023-04-30T01:52:41.965041Z",
     "iopub.status.busy": "2023-04-30T01:52:41.964601Z",
     "iopub.status.idle": "2023-04-30T01:52:41.968728Z",
     "shell.execute_reply": "2023-04-30T01:52:41.967736Z"
    },
    "papermill": {
     "duration": 0.018355,
     "end_time": "2023-04-30T01:52:41.971099",
     "exception": false,
     "start_time": "2023-04-30T01:52:41.952744",
     "status": "completed"
    },
    "tags": []
   },
   "outputs": [],
   "source": [
    "# Line below will give you a hint\n",
    "#q4.hint()"
   ]
  },
  {
   "cell_type": "markdown",
   "id": "1facd9ed",
   "metadata": {
    "papermill": {
     "duration": 0.009894,
     "end_time": "2023-04-30T01:52:41.991448",
     "exception": false,
     "start_time": "2023-04-30T01:52:41.981554",
     "status": "completed"
    },
    "tags": []
   },
   "source": [
    "# 5) Drop missing values: columns\n",
    "\n",
    "Now try removing all the columns with empty values.  \n",
    "- Create a new DataFrame called `sf_permits_with_na_dropped` that has all of the columns with empty values removed.  \n",
    "- How many columns were removed from the original `sf_permits` DataFrame? Use this number to set the value of the `dropped_columns` variable below."
   ]
  },
  {
   "cell_type": "code",
   "execution_count": 19,
   "id": "8bccf737",
   "metadata": {
    "execution": {
     "iopub.execute_input": "2023-04-30T01:52:42.014899Z",
     "iopub.status.busy": "2023-04-30T01:52:42.013679Z",
     "iopub.status.idle": "2023-04-30T01:52:42.294089Z",
     "shell.execute_reply": "2023-04-30T01:52:42.293195Z"
    },
    "papermill": {
     "duration": 0.294471,
     "end_time": "2023-04-30T01:52:42.296278",
     "exception": false,
     "start_time": "2023-04-30T01:52:42.001807",
     "status": "completed"
    },
    "tags": []
   },
   "outputs": [
    {
     "data": {
      "application/javascript": [
       "parent.postMessage({\"jupyterEvent\": \"custom.exercise_interaction\", \"data\": {\"outcomeType\": 1, \"valueTowardsCompletion\": 0.16666666666666666, \"interactionType\": 1, \"questionType\": 1, \"questionId\": \"5_DropMissingCols\", \"learnToolsVersion\": \"0.3.4\", \"failureMessage\": \"\", \"exceptionClass\": \"\", \"trace\": \"\"}}, \"*\")"
      ],
      "text/plain": [
       "<IPython.core.display.Javascript object>"
      ]
     },
     "metadata": {},
     "output_type": "display_data"
    },
    {
     "data": {
      "text/markdown": [
       "<span style=\"color:#33cc33\">Correct</span>"
      ],
      "text/plain": [
       "Correct"
      ]
     },
     "metadata": {},
     "output_type": "display_data"
    }
   ],
   "source": [
    "# TODO: Your code here\n",
    "sf_permits_with_na_dropped = sf_permits.dropna(axis=1)\n",
    "orgcolum = sf_permits.shape[1]\n",
    "dropped_columns = orgcolum- sf_permits_with_na_dropped.shape[1]\n",
    "#print(sf_permits_with_na_dropped.shape[1])\n",
    "# print(\"dropped_columns:%d\" % dropped_columns)\n",
    "\n",
    "#dropped_columns\n",
    "#Check your answer\n",
    "q5.check()"
   ]
  },
  {
   "cell_type": "code",
   "execution_count": 20,
   "id": "331726b0",
   "metadata": {
    "execution": {
     "iopub.execute_input": "2023-04-30T01:52:42.320208Z",
     "iopub.status.busy": "2023-04-30T01:52:42.319154Z",
     "iopub.status.idle": "2023-04-30T01:52:42.328534Z",
     "shell.execute_reply": "2023-04-30T01:52:42.327332Z"
    },
    "papermill": {
     "duration": 0.023758,
     "end_time": "2023-04-30T01:52:42.331076",
     "exception": false,
     "start_time": "2023-04-30T01:52:42.307318",
     "status": "completed"
    },
    "tags": []
   },
   "outputs": [
    {
     "data": {
      "application/javascript": [
       "parent.postMessage({\"jupyterEvent\": \"custom.exercise_interaction\", \"data\": {\"interactionType\": 2, \"questionType\": 1, \"questionId\": \"5_DropMissingCols\", \"learnToolsVersion\": \"0.3.4\", \"valueTowardsCompletion\": 0.0, \"failureMessage\": \"\", \"exceptionClass\": \"\", \"trace\": \"\", \"outcomeType\": 4}}, \"*\")"
      ],
      "text/plain": [
       "<IPython.core.display.Javascript object>"
      ]
     },
     "metadata": {},
     "output_type": "display_data"
    },
    {
     "data": {
      "text/markdown": [
       "<span style=\"color:#3366cc\">Hint:</span> You can begin by getting the dropping all columns with missing values with `sf_permits.dropna(axis=1)`."
      ],
      "text/plain": [
       "Hint: You can begin by getting the dropping all columns with missing values with `sf_permits.dropna(axis=1)`."
      ]
     },
     "metadata": {},
     "output_type": "display_data"
    }
   ],
   "source": [
    "# Lines below will give you a hint or solution code\n",
    "q5.hint()\n",
    "#q5.solution()"
   ]
  },
  {
   "cell_type": "markdown",
   "id": "6c1f40b3",
   "metadata": {
    "papermill": {
     "duration": 0.010366,
     "end_time": "2023-04-30T01:52:42.352308",
     "exception": false,
     "start_time": "2023-04-30T01:52:42.341942",
     "status": "completed"
    },
    "tags": []
   },
   "source": [
    "# 6) Fill in missing values automatically\n",
    "\n",
    "Try replacing all the NaN's in the `sf_permits` data with the one that comes directly after it and then replacing any remaining NaN's with 0.  Set the result to a new DataFrame `sf_permits_with_na_imputed`."
   ]
  },
  {
   "cell_type": "code",
   "execution_count": 21,
   "id": "c8f368d6",
   "metadata": {
    "execution": {
     "iopub.execute_input": "2023-04-30T01:52:42.377323Z",
     "iopub.status.busy": "2023-04-30T01:52:42.375965Z",
     "iopub.status.idle": "2023-04-30T01:52:43.383016Z",
     "shell.execute_reply": "2023-04-30T01:52:43.381789Z"
    },
    "papermill": {
     "duration": 1.022716,
     "end_time": "2023-04-30T01:52:43.385767",
     "exception": false,
     "start_time": "2023-04-30T01:52:42.363051",
     "status": "completed"
    },
    "tags": []
   },
   "outputs": [
    {
     "data": {
      "application/javascript": [
       "parent.postMessage({\"jupyterEvent\": \"custom.exercise_interaction\", \"data\": {\"outcomeType\": 1, \"valueTowardsCompletion\": 0.16666666666666666, \"interactionType\": 1, \"questionType\": 1, \"questionId\": \"6_ImputeAutomatically\", \"learnToolsVersion\": \"0.3.4\", \"failureMessage\": \"\", \"exceptionClass\": \"\", \"trace\": \"\"}}, \"*\")"
      ],
      "text/plain": [
       "<IPython.core.display.Javascript object>"
      ]
     },
     "metadata": {},
     "output_type": "display_data"
    },
    {
     "data": {
      "text/markdown": [
       "<span style=\"color:#33cc33\">Correct</span>"
      ],
      "text/plain": [
       "Correct"
      ]
     },
     "metadata": {},
     "output_type": "display_data"
    }
   ],
   "source": [
    "# TODO: Your code here\n",
    "sf_permits_with_na_imputed = sf_permits.fillna(method='bfill',axis=0).fillna(0)\n",
    "\n",
    "# Check your answer\n",
    "q6.check()"
   ]
  },
  {
   "cell_type": "code",
   "execution_count": 22,
   "id": "998c3f07",
   "metadata": {
    "execution": {
     "iopub.execute_input": "2023-04-30T01:52:43.409522Z",
     "iopub.status.busy": "2023-04-30T01:52:43.409096Z",
     "iopub.status.idle": "2023-04-30T01:52:43.419124Z",
     "shell.execute_reply": "2023-04-30T01:52:43.417753Z"
    },
    "papermill": {
     "duration": 0.024947,
     "end_time": "2023-04-30T01:52:43.421760",
     "exception": false,
     "start_time": "2023-04-30T01:52:43.396813",
     "status": "completed"
    },
    "tags": []
   },
   "outputs": [
    {
     "data": {
      "application/javascript": [
       "parent.postMessage({\"jupyterEvent\": \"custom.exercise_interaction\", \"data\": {\"interactionType\": 2, \"questionType\": 1, \"questionId\": \"6_ImputeAutomatically\", \"learnToolsVersion\": \"0.3.4\", \"valueTowardsCompletion\": 0.0, \"failureMessage\": \"\", \"exceptionClass\": \"\", \"trace\": \"\", \"outcomeType\": 4}}, \"*\")"
      ],
      "text/plain": [
       "<IPython.core.display.Javascript object>"
      ]
     },
     "metadata": {},
     "output_type": "display_data"
    },
    {
     "data": {
      "text/markdown": [
       "<span style=\"color:#3366cc\">Hint:</span> Use the `.fillna()` method twice."
      ],
      "text/plain": [
       "Hint: Use the `.fillna()` method twice."
      ]
     },
     "metadata": {},
     "output_type": "display_data"
    }
   ],
   "source": [
    "# Lines below will give you a hint or solution code\n",
    "q6.hint()\n",
    "#q6.solution()"
   ]
  },
  {
   "cell_type": "markdown",
   "id": "b37f20b8",
   "metadata": {
    "papermill": {
     "duration": 0.01081,
     "end_time": "2023-04-30T01:52:43.444002",
     "exception": false,
     "start_time": "2023-04-30T01:52:43.433192",
     "status": "completed"
    },
    "tags": []
   },
   "source": [
    "# More practice\n",
    "\n",
    "If you're looking for more practice handling missing values:\n",
    "\n",
    "* Check out [this noteboook](https://www.kaggle.com/alexisbcook/missing-values) on handling missing values using scikit-learn's imputer. \n",
    "* Look back at the \"Zipcode\" column in the `sf_permits` dataset, which has some missing values. How would you go about figuring out what the actual zipcode of each address should be? (You might try using another dataset. You can search for datasets about San Fransisco on the [Datasets listing](https://www.kaggle.com/datasets).) \n",
    "\n",
    "# Keep going\n",
    "\n",
    "In the next lesson, learn how to [**apply scaling and normalization**](https://www.kaggle.com/alexisbcook/scaling-and-normalization) to transform your data."
   ]
  },
  {
   "cell_type": "markdown",
   "id": "d7a90ee5",
   "metadata": {
    "papermill": {
     "duration": 0.011268,
     "end_time": "2023-04-30T01:52:43.466491",
     "exception": false,
     "start_time": "2023-04-30T01:52:43.455223",
     "status": "completed"
    },
    "tags": []
   },
   "source": [
    "---\n",
    "\n",
    "\n",
    "\n",
    "\n",
    "*Have questions or comments? Visit the [course discussion forum](https://www.kaggle.com/learn/data-cleaning/discussion) to chat with other learners.*"
   ]
  }
 ],
 "metadata": {
  "kernelspec": {
   "display_name": "Python 3",
   "language": "python",
   "name": "python3"
  },
  "language_info": {
   "codemirror_mode": {
    "name": "ipython",
    "version": 3
   },
   "file_extension": ".py",
   "mimetype": "text/x-python",
   "name": "python",
   "nbconvert_exporter": "python",
   "pygments_lexer": "ipython3",
   "version": "3.7.12"
  },
  "papermill": {
   "default_parameters": {},
   "duration": 20.545163,
   "end_time": "2023-04-30T01:52:44.301100",
   "environment_variables": {},
   "exception": null,
   "input_path": "__notebook__.ipynb",
   "output_path": "__notebook__.ipynb",
   "parameters": {},
   "start_time": "2023-04-30T01:52:23.755937",
   "version": "2.4.0"
  }
 },
 "nbformat": 4,
 "nbformat_minor": 5
}
